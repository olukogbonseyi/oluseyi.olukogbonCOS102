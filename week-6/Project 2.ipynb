{
 "cells": [
  {
   "cell_type": "code",
   "execution_count": 1,
   "id": "35b70a3e-308b-4542-9d88-b6c99442d742",
   "metadata": {},
   "outputs": [
    {
     "name": "stdout",
     "output_type": "stream",
     "text": [
      "John Doe is admitted to Computer Science.\n",
      "Jane Smith is not admitted to Computer Science.\n",
      "Alice Johnson is not admitted to Computer Science.\n",
      "Bob Brown is not admitted to Computer Science.\n",
      "Catherine Lee is admitted to Computer Science.\n",
      "\n",
      "Admitted to Computer Science: ['John Doe', 'Catherine Lee']\n",
      "Not Admitted to Computer Science: ['Jane Smith', 'Alice Johnson', 'Bob Brown']\n",
      "John Doe is admitted to Mass Communication.\n",
      "Jane Smith is admitted to Mass Communication.\n",
      "Alice Johnson is not admitted to Mass Communication.\n",
      "Bob Brown is not admitted to Mass Communication.\n",
      "Catherine Lee is admitted to Mass Communication.\n",
      "\n",
      "Admitted to Mass Communication: ['John Doe', 'Jane Smith', 'Catherine Lee']\n",
      "Not Admitted to Mass Communication: ['Alice Johnson', 'Bob Brown']\n"
     ]
    }
   ],
   "source": [
    "class Candidate:\n",
    "    def __init__(self, name, jamb_score, credits, passed_interview):\n",
    "        self.name = name\n",
    "        self.jamb_score = jamb_score\n",
    "        self.credits = credits\n",
    "        self.passed_interview = passed_interview\n",
    "\n",
    "class Department:\n",
    "    def __init__(self, name, min_jamb_score, required_credits):\n",
    "        self.name = name\n",
    "        self.min_jamb_score = min_jamb_score\n",
    "        self.required_credits = required_credits\n",
    "        self.admitted = []\n",
    "        self.not_admitted = []\n",
    "\n",
    "    def assess_candidate(self, candidate):\n",
    "        if (candidate.jamb_score >= self.min_jamb_score and\n",
    "                candidate.credits >= self.required_credits and\n",
    "                candidate.passed_interview):\n",
    "            self.admitted.append(candidate.name)\n",
    "            return True\n",
    "        else:\n",
    "            self.not_admitted.append(candidate.name)\n",
    "            return False\n",
    "\n",
    "def main():\n",
    "    # Creating department objects with respective admission criteria\n",
    "    cs_department = Department(\"Computer Science\", 250, 5)\n",
    "    mc_department = Department(\"Mass Communication\", 230, 5)\n",
    "    \n",
    "    # Example candidate data\n",
    "    candidates = [\n",
    "        Candidate(\"John Doe\", 255, 5, True),\n",
    "        Candidate(\"Jane Smith\", 245, 5, True),\n",
    "        Candidate(\"Alice Johnson\", 260, 4, True),\n",
    "        Candidate(\"Bob Brown\", 240, 5, False),\n",
    "        Candidate(\"Catherine Lee\", 275, 5, True)\n",
    "    ]\n",
    "\n",
    "    # Assess candidates for Computer Science\n",
    "    for candidate in candidates:\n",
    "        if cs_department.assess_candidate(candidate):\n",
    "            print(f\"{candidate.name} is admitted to Computer Science.\")\n",
    "        else:\n",
    "            print(f\"{candidate.name} is not admitted to Computer Science.\")\n",
    "    \n",
    "    # Print the admitted and not admitted lists\n",
    "    print(\"\\nAdmitted to Computer Science:\", cs_department.admitted)\n",
    "    print(\"Not Admitted to Computer Science:\", cs_department.not_admitted)\n",
    "\n",
    "    # Assess candidates for Mass Communication\n",
    "    for candidate in candidates:\n",
    "        if mc_department.assess_candidate(candidate):\n",
    "            print(f\"{candidate.name} is admitted to Mass Communication.\")\n",
    "        else:\n",
    "            print(f\"{candidate.name} is not admitted to Mass Communication.\")\n",
    "    \n",
    "    # Print the admitted and not admitted lists\n",
    "    print(\"\\nAdmitted to Mass Communication:\", mc_department.admitted)\n",
    "    print(\"Not Admitted to Mass Communication:\", mc_department.not_admitted)\n",
    "\n",
    "if __name__ == \"__main__\":\n",
    "    main()\n"
   ]
  },
  {
   "cell_type": "code",
   "execution_count": null,
   "id": "49799086-672a-49ed-b84c-91d67ca80dad",
   "metadata": {},
   "outputs": [],
   "source": []
  }
 ],
 "metadata": {
  "kernelspec": {
   "display_name": "Python 3 (ipykernel)",
   "language": "python",
   "name": "python3"
  },
  "language_info": {
   "codemirror_mode": {
    "name": "ipython",
    "version": 3
   },
   "file_extension": ".py",
   "mimetype": "text/x-python",
   "name": "python",
   "nbconvert_exporter": "python",
   "pygments_lexer": "ipython3",
   "version": "3.11.7"
  }
 },
 "nbformat": 4,
 "nbformat_minor": 5
}
