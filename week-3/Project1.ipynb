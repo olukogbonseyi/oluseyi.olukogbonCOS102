{
 "cells": [
  {
   "cell_type": "code",
   "execution_count": 1,
   "id": "70c88f3a-8713-4f74-a3dd-d349c830249d",
   "metadata": {},
   "outputs": [
    {
     "name": "stdout",
     "output_type": "stream",
     "text": [
      "Choose an operation:\n",
      "1. Solve a quadratic equation\n",
      "2. Solve a cubic equation\n",
      "3. Solve a quartic equation (not implemented)\n"
     ]
    },
    {
     "name": "stdin",
     "output_type": "stream",
     "text": [
      "Enter your choice:  2\n",
      "Enter coefficient a:  3\n",
      "Enter coefficient b:  4\n",
      "Enter coefficient c:  6\n",
      "Enter coefficient d:  2\n"
     ]
    },
    {
     "name": "stdout",
     "output_type": "stream",
     "text": [
      "Root: (0.5915361470576082+0.5790061019147626j)\n"
     ]
    }
   ],
   "source": [
    "import math\n",
    "\n",
    "def solve_quadratic(a, b, c):\n",
    "    discriminant = b**2 - 4*a*c\n",
    "    if discriminant > 0:\n",
    "        root1 = (-b + math.sqrt(discriminant)) / (2*a)\n",
    "        root2 = (-b - math.sqrt(discriminant)) / (2*a)\n",
    "        return root1, root2\n",
    "    elif discriminant == 0:\n",
    "        root = -b / (2*a)\n",
    "        return root, root\n",
    "    else:\n",
    "        real_part = -b / (2*a)\n",
    "        imaginary_part = math.sqrt(abs(discriminant)) / (2*a)\n",
    "        root1 = complex(real_part, imaginary_part)\n",
    "        root2 = complex(real_part, -imaginary_part)\n",
    "        return root1, root2\n",
    "\n",
    "def solve_cubic(a, b, c, d):\n",
    "    p = (3*a*c - b**2) / (3*a**2)\n",
    "    q = (2*b**3 - 9*a*b*c + 27*a**2*d) / (27*a**3)\n",
    "    delta = (q**2) / 4 + (p**3) / 27\n",
    "    if delta > 0:\n",
    "        u = (-q/2 + math.sqrt(delta)) ** (1/3)\n",
    "        v = (-q/2 - math.sqrt(delta)) ** (1/3)\n",
    "        root1 = u + v - b / (3*a)\n",
    "        return root1\n",
    "    elif delta == 0:\n",
    "        root1 = -2 * (q/2)**(1/3) - b / (3*a)\n",
    "        return root1\n",
    "    else:\n",
    "        theta = math.acos(-q / (2 * math.sqrt(-p**3 / 27)))\n",
    "        root1 = 2 * math.sqrt(-p/3) * math.cos(theta/3) - b / (3*a)\n",
    "        root2 = 2 * math.sqrt(-p/3) * math.cos((theta + 2*math.pi) / 3) - b / (3*a)\n",
    "        root3 = 2 * math.sqrt(-p/3) * math.cos((theta - 2*math.pi) / 3) - b / (3*a)\n",
    "        return root1, root2, root3\n",
    "\n",
    "def solve_quartic(a, b, c, d, e):\n",
    "    pass  # Not implemented yet\n",
    "\n",
    "def main():\n",
    "    print(\"Choose an operation:\")\n",
    "    print(\"1. Solve a quadratic equation\")\n",
    "    print(\"2. Solve a cubic equation\")\n",
    "    print(\"3. Solve a quartic equation (not implemented)\")\n",
    "    choice = int(input(\"Enter your choice: \"))\n",
    "\n",
    "    if choice == 1:\n",
    "        a = float(input(\"Enter coefficient a: \"))\n",
    "        b = float(input(\"Enter coefficient b: \"))\n",
    "        c = float(input(\"Enter coefficient c: \"))\n",
    "        roots = solve_quadratic(a, b, c)\n",
    "        print(\"Roots:\", roots)\n",
    "    elif choice == 2:\n",
    "        a = float(input(\"Enter coefficient a: \"))\n",
    "        b = float(input(\"Enter coefficient b: \"))\n",
    "        c = float(input(\"Enter coefficient c: \"))\n",
    "        d = float(input(\"Enter coefficient d: \"))\n",
    "        root = solve_cubic(a, b, c, d)\n",
    "        print(\"Root:\", root)\n",
    "    elif choice == 3:\n",
    "        print(\"Quartic equation solving is not implemented yet.\")\n",
    "    else:\n",
    "        print(\"Invalid choice\")\n",
    "\n",
    "if __name__ == \"__main__\":\n",
    "    main()\n"
   ]
  },
  {
   "cell_type": "code",
   "execution_count": null,
   "id": "a3428275-ad1e-4829-9c9e-d8e2c81617a0",
   "metadata": {},
   "outputs": [],
   "source": []
  }
 ],
 "metadata": {
  "kernelspec": {
   "display_name": "Python 3 (ipykernel)",
   "language": "python",
   "name": "python3"
  },
  "language_info": {
   "codemirror_mode": {
    "name": "ipython",
    "version": 3
   },
   "file_extension": ".py",
   "mimetype": "text/x-python",
   "name": "python",
   "nbconvert_exporter": "python",
   "pygments_lexer": "ipython3",
   "version": "3.11.7"
  }
 },
 "nbformat": 4,
 "nbformat_minor": 5
}
