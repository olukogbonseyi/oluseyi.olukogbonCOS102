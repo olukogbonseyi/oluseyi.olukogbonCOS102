{
 "cells": [
  {
   "cell_type": "code",
   "execution_count": 3,
   "id": "3a841f36-48c4-44d6-ae86-66700ae70b2f",
   "metadata": {},
   "outputs": [
    {
     "name": "stdin",
     "output_type": "stream",
     "text": [
      "Enter your state of origin: lagos\n"
     ]
    },
    {
     "name": "stdout",
     "output_type": "stream",
     "text": [
      "Your state of origin is:  lagos\n",
      "The first character is:  l\n",
      "The characters starting from 3rd to 5th are:  gos\n",
      "The string starting from 3rd character is:  gos\n",
      "State of origin two times lagoslagos\n"
     ]
    }
   ],
   "source": [
    "str = input(\"Enter your state of origin:\")\n",
    "\n",
    "print (\"Your state of origin is: \", str)\n",
    "print (\"The first character is: \" , str [0])\n",
    "print (\"The characters starting from 3rd to 5th are: \", str[2:5])\n",
    "print (\"The string starting from 3rd character is: \", str[2:])\n",
    "print (\"State of origin two times\", str * 2)"
   ]
  },
  {
   "cell_type": "code",
   "execution_count": null,
   "id": "e3a2a7ac-4249-4652-9d12-7c20bd584284",
   "metadata": {},
   "outputs": [],
   "source": []
  },
  {
   "cell_type": "code",
   "execution_count": null,
   "id": "42de40c4-96f6-4914-a64f-0f2ae56b8160",
   "metadata": {},
   "outputs": [],
   "source": []
  }
 ],
 "metadata": {
  "kernelspec": {
   "display_name": "Python 3 (ipykernel)",
   "language": "python",
   "name": "python3"
  },
  "language_info": {
   "codemirror_mode": {
    "name": "ipython",
    "version": 3
   },
   "file_extension": ".py",
   "mimetype": "text/x-python",
   "name": "python",
   "nbconvert_exporter": "python",
   "pygments_lexer": "ipython3",
   "version": "3.11.7"
  }
 },
 "nbformat": 4,
 "nbformat_minor": 5
}
