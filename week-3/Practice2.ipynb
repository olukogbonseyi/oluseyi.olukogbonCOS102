{
 "cells": [
  {
   "cell_type": "code",
   "execution_count": 1,
   "id": "051d8ac2-022e-4cce-b240-00efa3bb309e",
   "metadata": {},
   "outputs": [
    {
     "name": "stdin",
     "output_type": "stream",
     "text": [
      "Enter mass in kilograms:  10\n"
     ]
    },
    {
     "name": "stdout",
     "output_type": "stream",
     "text": [
      "The energy equivlent to 10.0 kg of mass is 8.987551787368177e+17 joules.\n"
     ]
    }
   ],
   "source": [
    "# Input from user\n",
    "m = float(input(\"Enter mass in kilograms: \"))\n",
    "\n",
    "# COnstant value for the speed of light in m/s\n",
    "c = 299792458\n",
    "\n",
    "# Calculating energy using Einstein's equation\n",
    "energy = m * c ** 2\n",
    "\n",
    "# Displaying the result\n",
    "print(f\"The energy equivlent to {m} kg of mass is {energy} joules.\")"
   ]
  }
 ],
 "metadata": {
  "kernelspec": {
   "display_name": "Python 3 (ipykernel)",
   "language": "python",
   "name": "python3"
  },
  "language_info": {
   "codemirror_mode": {
    "name": "ipython",
    "version": 3
   },
   "file_extension": ".py",
   "mimetype": "text/x-python",
   "name": "python",
   "nbconvert_exporter": "python",
   "pygments_lexer": "ipython3",
   "version": "3.11.7"
  }
 },
 "nbformat": 4,
 "nbformat_minor": 5
}
