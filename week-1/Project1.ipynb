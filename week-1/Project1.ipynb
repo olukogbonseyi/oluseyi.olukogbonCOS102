{
 "cells": [
  {
   "cell_type": "code",
   "execution_count": 7,
   "id": "833a9980-9a50-4340-8152-7581c01dfdad",
   "metadata": {},
   "outputs": [
    {
     "name": "stdin",
     "output_type": "stream",
     "text": [
      "Enter p 2\n",
      "Enter r 3\n",
      "Enter t 4\n"
     ]
    },
    {
     "name": "stdout",
     "output_type": "stream",
     "text": [
      "The total amount including simple interest is 2.24\n"
     ]
    },
    {
     "name": "stdin",
     "output_type": "stream",
     "text": [
      "Enter p 2\n",
      "Enter r 3\n",
      "Enter n value 4\n",
      "Enter t value 5\n"
     ]
    },
    {
     "name": "stdout",
     "output_type": "stream",
     "text": [
      "The total amount including compound interest is 145141.2868802654\n"
     ]
    },
    {
     "name": "stdin",
     "output_type": "stream",
     "text": [
      "Enter PMT value 2\n",
      "Enter r 3\n",
      "Enter n value 4\n",
      "Enter t value 5\n"
     ]
    },
    {
     "name": "stdout",
     "output_type": "stream",
     "text": [
      "The total amount including annuity plan is 193519.0491736872\n"
     ]
    }
   ],
   "source": [
    "# simple interest\n",
    "P = int(input('Enter p'))\n",
    "R = int(input('Enter r'))\n",
    "T = int(input('Enter t'))\n",
    "A = P*(1 + (R / 100)*T)\n",
    "print(\"The total amount including simple interest is\", A)\n",
    "\n",
    "# compound interest\n",
    "P = int(input('Enter p'))\n",
    "R = int(input('Enter r'))\n",
    "n = int(input('Enter n value'))\n",
    "t = int(input('Enter t value'))\n",
    "A = P*(1 + (R/n))**(n*t)\n",
    "print(\"The total amount including compound interest is\", A)\n",
    "\n",
    "# annuity plan\n",
    "PMT = int(input('Enter PMT value'))\n",
    "R = int(input('Enter r'))\n",
    "n = int(input('Enter n value'))\n",
    "t = int(input('Enter t value'))\n",
    "A = PMT * (((1 + (R / n))**(n*t) - 1) / (R / n))\n",
    "print(\"The total amount including annuity plan is\", A)"
   ]
  },
  {
   "cell_type": "code",
   "execution_count": null,
   "id": "b39a748e-c948-45fa-831b-e1251ef3bc6a",
   "metadata": {},
   "outputs": [],
   "source": []
  }
 ],
 "metadata": {
  "kernelspec": {
   "display_name": "Python 3 (ipykernel)",
   "language": "python",
   "name": "python3"
  },
  "language_info": {
   "codemirror_mode": {
    "name": "ipython",
    "version": 3
   },
   "file_extension": ".py",
   "mimetype": "text/x-python",
   "name": "python",
   "nbconvert_exporter": "python",
   "pygments_lexer": "ipython3",
   "version": "3.11.7"
  }
 },
 "nbformat": 4,
 "nbformat_minor": 5
}
