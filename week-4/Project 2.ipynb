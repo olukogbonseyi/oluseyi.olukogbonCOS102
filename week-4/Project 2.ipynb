{
 "cells": [
  {
   "cell_type": "code",
   "execution_count": 2,
   "id": "41b9c1a1-4354-4033-8406-751f16cf7520",
   "metadata": {},
   "outputs": [
    {
     "name": "stdin",
     "output_type": "stream",
     "text": [
      "Type In Your Years Of Experience In This Company 34\n",
      "Type In Your Age 40\n"
     ]
    },
    {
     "name": "stdout",
     "output_type": "stream",
     "text": [
      "The Annual Tax Revenue Of The Individual In The Olympics Is N 1,500,000\n"
     ]
    }
   ],
   "source": [
    "# Program To Determine The Amount Of Tax That Each Worker Pays Off In This Company  \n",
    "employees_yoe = int(input(\"Type In Your Years Of Experience In This Company\"))\n",
    "employees_age = int(input(\"Type In Your Age\"))\n",
    "if employees_yoe > 25 and  employees_age >= 55:\n",
    "    a = (\"The Annual Tax Revenue Of The Individual In The Olympics  Is N5,600,000\")\n",
    "    print(a)\n",
    "elif employees_yoe > 20 and  employees_age >= 45:\n",
    "   b = (\"The Annual Tax Revenue Of The Individual In The Olympics  is N4,480,000\")\n",
    "   print(b)\n",
    "elif employees_yoe > 10 and  employees_age >= 35:\n",
    "   c = (\"The Annual Tax Revenue Of The Individual In The Olympics Is N 1,500,000\")\n",
    "   print(c)\n",
    "else:\n",
    "  d = (\"The Annual Tax Revenue Of The Retiree is 550,000\")\n",
    "  print(d)"
   ]
  },
  {
   "cell_type": "code",
   "execution_count": null,
   "id": "6b9e531e-df1a-4de5-9a87-a6b72dd8307f",
   "metadata": {},
   "outputs": [],
   "source": []
  },
  {
   "cell_type": "code",
   "execution_count": null,
   "id": "06585907-1175-4994-95ad-99f1ead24244",
   "metadata": {},
   "outputs": [],
   "source": []
  }
 ],
 "metadata": {
  "kernelspec": {
   "display_name": "Python 3 (ipykernel)",
   "language": "python",
   "name": "python3"
  },
  "language_info": {
   "codemirror_mode": {
    "name": "ipython",
    "version": 3
   },
   "file_extension": ".py",
   "mimetype": "text/x-python",
   "name": "python",
   "nbconvert_exporter": "python",
   "pygments_lexer": "ipython3",
   "version": "3.11.7"
  }
 },
 "nbformat": 4,
 "nbformat_minor": 5
}
