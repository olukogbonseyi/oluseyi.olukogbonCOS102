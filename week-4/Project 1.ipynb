{
 "cells": [
  {
   "cell_type": "code",
   "execution_count": 2,
   "id": "4fe11d19-a08f-4c21-b0cd-9ddedacb68ba",
   "metadata": {},
   "outputs": [
    {
     "name": "stdout",
     "output_type": "stream",
     "text": [
      "Welcome The Students Database Of The Class\n",
      "Name | Age | Height | Score\n",
      "Evelyn | 17 | 5.5 | 80 \n",
      "Jessica |  16 | 6.0 | 85 \n",
      "Somto |  17 | 5.4 | 70\n",
      "Edith |  18 | 5.9 | 60\n",
      "Liza 16 | 5.6 | 76\n",
      "Madonna | 18 | 5.5 | 66 \n",
      "Waje | 17| 6.1 | 87\n",
      "Tola |  20 | 6.0 | 95\n",
      "Aisha |  19 | 5.7  | 50 \n",
      "Latifa |  17 | 5.5 | 49\n",
      "Chinedu | 19 | 5.7 | 74\n",
      "Liam | 16 | 5.9 | 87\n",
      "Wale | 18 | 5.8 | 75\n",
      "Gbenga | 17| 6.1 | 68\n",
      "Abiola | 20 | 5.9 | 66\n",
      "Kola | 19| 5.5 | 78\n",
      "Kunle | 16 | 6.1 | 87\n",
      "George | 18 | 5.4 | 98\n",
      "Thomas 17 | 5.8 | 5.7\n",
      "Welsey | 60 | 5.7 | 19\n"
     ]
    }
   ],
   "source": [
    "# Progrm To Display The Data Of The Students In A School \n",
    "\n",
    "print(\"Welcome The Students Database Of The Class\")\n",
    "print (\"Name | Age | Height | Score\")\n",
    "\n",
    "gnames = {'Evelyn |': '17 | 5.5 | 80 ','Jessica | ': '16 | 6.0 | 85 ','Somto | ': '17 | 5.4 | 70' ,'Edith | ': '18 | 5.9 | 60','Liza': '16 | 5.6 | 76','Madonna |': '18 | 5.5 | 66 ' ,'Waje |': '17| 6.1 | 87','Tola | ': '20 | 6.0 | 95','Aisha | ' : '19 | 5.7  | 50 ','Latifa | ':  '17 | 5.5 | 49'}\n",
    "bnames = {'Chinedu |': '19 | 5.7 | 74','Liam |': '16 | 5.9 | 87','Wale |': '18 | 5.8 | 75','Gbenga |': '17| 6.1 | 68','Abiola |': '20 | 5.9 | 66','Kola |': '19| 5.5 | 78','Kunle |': '16 | 6.1 | 87','George |': '18 | 5.4 | 98','Thomas': '17 | 5.8 | 5.7','Welsey |': '60 | 5.7 | 19'}   \n",
    "for act in gnames:\n",
    "      print(act,gnames[act])\n",
    "\n",
    "for actr in bnames:\n",
    "    print(actr,bnames[actr])"
   ]
  },
  {
   "cell_type": "code",
   "execution_count": null,
   "id": "78d89c8f-dcaf-4d50-a444-e26972968f1b",
   "metadata": {},
   "outputs": [],
   "source": []
  }
 ],
 "metadata": {
  "kernelspec": {
   "display_name": "Python 3 (ipykernel)",
   "language": "python",
   "name": "python3"
  },
  "language_info": {
   "codemirror_mode": {
    "name": "ipython",
    "version": 3
   },
   "file_extension": ".py",
   "mimetype": "text/x-python",
   "name": "python",
   "nbconvert_exporter": "python",
   "pygments_lexer": "ipython3",
   "version": "3.11.7"
  }
 },
 "nbformat": 4,
 "nbformat_minor": 5
}
