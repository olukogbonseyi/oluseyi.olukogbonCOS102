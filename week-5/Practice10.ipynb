{
 "cells": [
  {
   "cell_type": "code",
   "execution_count": 2,
   "id": "04611809-f579-43d6-98d4-6df4226de148",
   "metadata": {},
   "outputs": [],
   "source": [
    "import tkinter as tk\n",
    "\n",
    "# Handling button click event\n",
    "def button_click():\n",
    "    #print(\"Button clicked!\")\n",
    "\n",
    "    # Show an information message box\n",
    "    msgbox.showinfo(\"Info\", \"Welcome to COS 102 GUI App!\\n\")\n",
    "\n",
    "    # Ask for user confirmation\n",
    "    result = msgbox.askyesno(\"Confirmation\", \"Do you want to continue?\")\n",
    "\n",
    "# Create the main window\n",
    "root = tk.Tk()\n",
    "root.title(\"Home Page\")\n",
    "root.geometry(\"300x100\")\n",
    "\n",
    "# Add a label widget\n",
    "label = tk.Label(root, text=\"Hello Friend \\n\")\n",
    "label.pack()\n",
    "\n",
    "# Add a button widget\n",
    "button = tk.Button(root, text=\"Click Me!\", command=button_click)\n",
    "button.pack()\n",
    "# Styling the button widget \n",
    "button.config(fg=\"red\", bg=\"yellow\")\n",
    "\n",
    "# Start the event loop\n",
    "root.mainloop()"
   ]
  },
  {
   "cell_type": "code",
   "execution_count": null,
   "id": "31808be3-633d-4c63-ad06-e01247dbceec",
   "metadata": {},
   "outputs": [],
   "source": []
  }
 ],
 "metadata": {
  "kernelspec": {
   "display_name": "Python 3 (ipykernel)",
   "language": "python",
   "name": "python3"
  },
  "language_info": {
   "codemirror_mode": {
    "name": "ipython",
    "version": 3
   },
   "file_extension": ".py",
   "mimetype": "text/x-python",
   "name": "python",
   "nbconvert_exporter": "python",
   "pygments_lexer": "ipython3",
   "version": "3.11.7"
  }
 },
 "nbformat": 4,
 "nbformat_minor": 5
}
