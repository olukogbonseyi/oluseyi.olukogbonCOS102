{
 "cells": [
  {
   "cell_type": "code",
   "execution_count": 10,
   "id": "40c9ba61-a095-462a-b16b-581ffc0cda83",
   "metadata": {},
   "outputs": [
    {
     "name": "stderr",
     "output_type": "stream",
     "text": [
      "Exception in Tkinter callback\n",
      "Traceback (most recent call last):\n",
      "  File \"C:\\Users\\HP\\anaconda3\\Lib\\tkinter\\__init__.py\", line 1948, in __call__\n",
      "    return self.func(*args)\n",
      "           ^^^^^^^^^^^^^^^^\n",
      "  File \"C:\\Users\\HP\\AppData\\Local\\Temp\\ipykernel_1664\\905713117.py\", line 32, in submit\n",
      "    welcomeMessage(surname, department)\n",
      "  File \"C:\\Users\\HP\\AppData\\Local\\Temp\\ipykernel_1664\\905713117.py\", line 25, in welcomeMessage\n",
      "    messagebox.showinfo(\"Welcome\", welcome_message + members_message)\n",
      "  File \"C:\\Users\\HP\\anaconda3\\Lib\\tkinter\\messagebox.py\", line 88, in showinfo\n",
      "    return _show(title, message, INFO, OK, **options)\n",
      "           ^^^^^^^^^^^^^^^^^^^^^^^^^^^^^^^^^^^^^^^^^^\n",
      "  File \"C:\\Users\\HP\\anaconda3\\Lib\\tkinter\\messagebox.py\", line 76, in _show\n",
      "    res = Message(**options).show()\n",
      "          ^^^^^^^^^^^^^^^^^^^^^^^^^\n",
      "  File \"C:\\Users\\HP\\anaconda3\\Lib\\tkinter\\commondialog.py\", line 45, in show\n",
      "    s = master.tk.call(self.command, *master._options(self.options))\n",
      "        ^^^^^^^^^^^^^^^^^^^^^^^^^^^^^^^^^^^^^^^^^^^^^^^^^^^^^^^^^^^^\n",
      "KeyboardInterrupt\n"
     ]
    }
   ],
   "source": [
    "import tkinter as tk\n",
    "from tkinter import messagebox\n",
    "from PIL import Image, ImageTk\n",
    "import pandas as pd\n",
    "\n",
    "file_path = r\"C:\\Users\\HP\\OneDrive\\Documents\\oluseyi.olukogbonCOS102\\week-5\\GIG-logistics.csv\"\n",
    "employees_df = pd.read_csv(file_path)\n",
    "\n",
    "def welcomeMessage(surname, department):\n",
    "    welcome_message = f\"Welcome {surname}\\n\"\n",
    "\n",
    "    department_employees = employees_df[employees_df[\"DEPARTMENT\"] == department][\"SURNAME\"].tolist()\n",
    "    department_employees.remove(surname) if surname in department_employees else None\n",
    "\n",
    "    window = tk.Toplevel(root)\n",
    "    window.title(\"Admin Box\")\n",
    "    window.geometry(\"500x200\")\n",
    "\n",
    "    if department_employees:\n",
    "        members_message = f\"\\nOther members of the {department} DEPARTMENT:\\n\"\n",
    "        members_message += \"\\n\".join(department_employees)\n",
    "    else:\n",
    "        members_message = f\"\\nYou are the only member of the {department} department.\"\n",
    "\n",
    "    messagebox.showinfo(\"Welcome\", welcome_message + members_message)\n",
    "       \n",
    "def submit():\n",
    "    surname = SURNAME_entry.get()\n",
    "    department = DEPARTMENT_entry.get()\n",
    "\n",
    "    if employees_df[(employees_df[\"SURNAME\"] == surname) & (employees_df[\"DEPARTMENT\"] == department)].shape[0] > 0:\n",
    "        welcomeMessage(surname, department)\n",
    "    else:\n",
    "        messagebox.showerror(\"Failed\", \"Employee does not exist\")                                          \n",
    "\n",
    "\n",
    "# Create main window\n",
    "root = tk.Tk()\n",
    "root.title(\"Login Form\")\n",
    "root.geometry(\"500x200\")\n",
    "\n",
    "# Create username label and entry\n",
    "SURNAME_label = tk.Label(root, text=\"SURNAME:\")\n",
    "SURNAME_label.pack()\n",
    "SURNAME_entry = tk.Entry(root)\n",
    "SURNAME_entry.pack()\n",
    "\n",
    "# Create password label and entry\n",
    "DEPARTMENT_label = tk.Label(root, text=\"Department:\")\n",
    "DEPARTMENT_label.pack()\n",
    "DEPARTMENT_entry = tk.Entry(root, show=\"*\")\n",
    "DEPARTMENT_entry.pack()\n",
    "\n",
    "# Create submit button\n",
    "submit_button = tk.Button(root, text=\"Submit\", command=submit)\n",
    "submit_button.pack()\n",
    "\n",
    "# Run the main event Loop()\n",
    "root.mainloop()"
   ]
  },
  {
   "cell_type": "code",
   "execution_count": null,
   "id": "d5c99f23-bbec-492d-ae38-96ac083b74a6",
   "metadata": {},
   "outputs": [],
   "source": []
  }
 ],
 "metadata": {
  "kernelspec": {
   "display_name": "Python 3 (ipykernel)",
   "language": "python",
   "name": "python3"
  },
  "language_info": {
   "codemirror_mode": {
    "name": "ipython",
    "version": 3
   },
   "file_extension": ".py",
   "mimetype": "text/x-python",
   "name": "python",
   "nbconvert_exporter": "python",
   "pygments_lexer": "ipython3",
   "version": "3.11.7"
  }
 },
 "nbformat": 4,
 "nbformat_minor": 5
}
