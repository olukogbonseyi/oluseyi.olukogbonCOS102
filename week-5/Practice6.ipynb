{
 "cells": [
  {
   "cell_type": "code",
   "execution_count": 4,
   "id": "349c4efb-5c73-48b3-b715-bebd46feccf4",
   "metadata": {},
   "outputs": [
    {
     "name": "stdout",
     "output_type": "stream",
     "text": [
      "Name:  miki\n",
      "Age:  50\n",
      "Name:  miki\n",
      "Age:  35\n"
     ]
    }
   ],
   "source": [
    "def printinfo(name, age=35 ):\n",
    "    #Test function\n",
    "    print (\"Name: \", name);\n",
    "    print (\"Age: \", age);\n",
    "    return;\n",
    "printinfo(age = 50, name = \"miki\" );\n",
    "printinfo(name=\"miki\" );"
   ]
  },
  {
   "cell_type": "code",
   "execution_count": null,
   "id": "12fb14e7-2f87-4128-9325-a170352f2983",
   "metadata": {},
   "outputs": [],
   "source": []
  }
 ],
 "metadata": {
  "kernelspec": {
   "display_name": "Python 3 (ipykernel)",
   "language": "python",
   "name": "python3"
  },
  "language_info": {
   "codemirror_mode": {
    "name": "ipython",
    "version": 3
   },
   "file_extension": ".py",
   "mimetype": "text/x-python",
   "name": "python",
   "nbconvert_exporter": "python",
   "pygments_lexer": "ipython3",
   "version": "3.11.7"
  }
 },
 "nbformat": 4,
 "nbformat_minor": 5
}
